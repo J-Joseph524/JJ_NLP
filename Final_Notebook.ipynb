{
 "cells": [
  {
   "cell_type": "code",
   "execution_count": 19,
   "metadata": {},
   "outputs": [
    {
     "name": "stderr",
     "output_type": "stream",
     "text": [
      "[nltk_data] Downloading package stopwords to\n",
      "[nltk_data]     /Users/jasonjoseph/nltk_data...\n",
      "[nltk_data]   Package stopwords is already up-to-date!\n",
      "[nltk_data] Downloading package punkt to\n",
      "[nltk_data]     /Users/jasonjoseph/nltk_data...\n",
      "[nltk_data]   Package punkt is already up-to-date!\n",
      "[nltk_data] Downloading package wordnet to\n",
      "[nltk_data]     /Users/jasonjoseph/nltk_data...\n",
      "[nltk_data]   Package wordnet is already up-to-date!\n"
     ]
    },
    {
     "data": {
      "text/plain": [
       "True"
      ]
     },
     "execution_count": 19,
     "metadata": {},
     "output_type": "execute_result"
    }
   ],
   "source": [
    "import pandas as pd\n",
    "import numpy as np\n",
    "import statsmodels.api as sm\n",
    "import matplotlib.pyplot as plt\n",
    "import seaborn as sns\n",
    "plt.style.use('seaborn')\n",
    "pd.options.display.max_rows = 4000\n",
    "pd.set_option('display.max_columns', 100)\n",
    "import nltk\n",
    "from sklearn.feature_extraction.text import CountVectorizer\n",
    "from sklearn.feature_extraction.text import TfidfVectorizer\n",
    "from sklearn.feature_extraction.text import TfidfTransformer\n",
    "from nltk.probability import FreqDist\n",
    "from nltk.corpus import stopwords\n",
    "from nltk.stem import PorterStemmer\n",
    "from sklearn.metrics import confusion_matrix\n",
    "from sklearn.naive_bayes import MultinomialNB\n",
    "from sklearn import metrics\n",
    "from sklearn.model_selection import train_test_split\n",
    "from matplotlib import cm\n",
    "from sklearn.ensemble import RandomForestClassifier\n",
    "from sklearn.metrics import accuracy_score\n",
    "from sklearn.metrics import f1_score\n",
    "from sklearn.naive_bayes import MultinomialNB\n",
    "from sklearn.linear_model import PassiveAggressiveClassifier\n",
    "from sklearn.metrics import confusion_matrix\n",
    "\n",
    "nltk.download('stopwords')\n",
    "nltk.download('punkt')\n",
    "nltk.download('wordnet')"
   ]
  },
  {
   "cell_type": "code",
   "execution_count": 5,
   "metadata": {},
   "outputs": [
    {
     "data": {
      "text/html": [
       "<div>\n",
       "<style scoped>\n",
       "    .dataframe tbody tr th:only-of-type {\n",
       "        vertical-align: middle;\n",
       "    }\n",
       "\n",
       "    .dataframe tbody tr th {\n",
       "        vertical-align: top;\n",
       "    }\n",
       "\n",
       "    .dataframe thead th {\n",
       "        text-align: right;\n",
       "    }\n",
       "</style>\n",
       "<table border=\"1\" class=\"dataframe\">\n",
       "  <thead>\n",
       "    <tr style=\"text-align: right;\">\n",
       "      <th></th>\n",
       "      <th>text</th>\n",
       "      <th>subject</th>\n",
       "      <th>date</th>\n",
       "    </tr>\n",
       "    <tr>\n",
       "      <th>title</th>\n",
       "      <th></th>\n",
       "      <th></th>\n",
       "      <th></th>\n",
       "    </tr>\n",
       "  </thead>\n",
       "  <tbody>\n",
       "    <tr>\n",
       "      <td>As U.S. budget fight looms, Republicans flip their fiscal script</td>\n",
       "      <td>WASHINGTON (Reuters) - The head of a conservat...</td>\n",
       "      <td>politicsNews</td>\n",
       "      <td>December 31, 2017</td>\n",
       "    </tr>\n",
       "    <tr>\n",
       "      <td>U.S. military to accept transgender recruits on Monday: Pentagon</td>\n",
       "      <td>WASHINGTON (Reuters) - Transgender people will...</td>\n",
       "      <td>politicsNews</td>\n",
       "      <td>December 29, 2017</td>\n",
       "    </tr>\n",
       "    <tr>\n",
       "      <td>Senior U.S. Republican senator: 'Let Mr. Mueller do his job'</td>\n",
       "      <td>WASHINGTON (Reuters) - The special counsel inv...</td>\n",
       "      <td>politicsNews</td>\n",
       "      <td>December 31, 2017</td>\n",
       "    </tr>\n",
       "    <tr>\n",
       "      <td>FBI Russia probe helped by Australian diplomat tip-off: NYT</td>\n",
       "      <td>WASHINGTON (Reuters) - Trump campaign adviser ...</td>\n",
       "      <td>politicsNews</td>\n",
       "      <td>December 30, 2017</td>\n",
       "    </tr>\n",
       "    <tr>\n",
       "      <td>Trump wants Postal Service to charge 'much more' for Amazon shipments</td>\n",
       "      <td>SEATTLE/WASHINGTON (Reuters) - President Donal...</td>\n",
       "      <td>politicsNews</td>\n",
       "      <td>December 29, 2017</td>\n",
       "    </tr>\n",
       "    <tr>\n",
       "      <td>White House, Congress prepare for talks on spending, immigration</td>\n",
       "      <td>WEST PALM BEACH, Fla./WASHINGTON (Reuters) - T...</td>\n",
       "      <td>politicsNews</td>\n",
       "      <td>December 29, 2017</td>\n",
       "    </tr>\n",
       "    <tr>\n",
       "      <td>Trump says Russia probe will be fair, but timeline unclear: NYT</td>\n",
       "      <td>WEST PALM BEACH, Fla (Reuters) - President Don...</td>\n",
       "      <td>politicsNews</td>\n",
       "      <td>December 29, 2017</td>\n",
       "    </tr>\n",
       "    <tr>\n",
       "      <td>Factbox: Trump on Twitter (Dec 29) - Approval rating, Amazon</td>\n",
       "      <td>The following statements were posted to the ve...</td>\n",
       "      <td>politicsNews</td>\n",
       "      <td>December 29, 2017</td>\n",
       "    </tr>\n",
       "    <tr>\n",
       "      <td>Trump on Twitter (Dec 28) - Global Warming</td>\n",
       "      <td>The following statements were posted to the ve...</td>\n",
       "      <td>politicsNews</td>\n",
       "      <td>December 29, 2017</td>\n",
       "    </tr>\n",
       "    <tr>\n",
       "      <td>Alabama official to certify Senator-elect Jones today despite challenge: CNN</td>\n",
       "      <td>WASHINGTON (Reuters) - Alabama Secretary of St...</td>\n",
       "      <td>politicsNews</td>\n",
       "      <td>December 28, 2017</td>\n",
       "    </tr>\n",
       "  </tbody>\n",
       "</table>\n",
       "</div>"
      ],
      "text/plain": [
       "                                                                                                 text  \\\n",
       "title                                                                                                   \n",
       "As U.S. budget fight looms, Republicans flip th...  WASHINGTON (Reuters) - The head of a conservat...   \n",
       "U.S. military to accept transgender recruits on...  WASHINGTON (Reuters) - Transgender people will...   \n",
       "Senior U.S. Republican senator: 'Let Mr. Muelle...  WASHINGTON (Reuters) - The special counsel inv...   \n",
       "FBI Russia probe helped by Australian diplomat ...  WASHINGTON (Reuters) - Trump campaign adviser ...   \n",
       "Trump wants Postal Service to charge 'much more...  SEATTLE/WASHINGTON (Reuters) - President Donal...   \n",
       "White House, Congress prepare for talks on spen...  WEST PALM BEACH, Fla./WASHINGTON (Reuters) - T...   \n",
       "Trump says Russia probe will be fair, but timel...  WEST PALM BEACH, Fla (Reuters) - President Don...   \n",
       "Factbox: Trump on Twitter (Dec 29) - Approval r...  The following statements were posted to the ve...   \n",
       "Trump on Twitter (Dec 28) - Global Warming          The following statements were posted to the ve...   \n",
       "Alabama official to certify Senator-elect Jones...  WASHINGTON (Reuters) - Alabama Secretary of St...   \n",
       "\n",
       "                                                         subject  \\\n",
       "title                                                              \n",
       "As U.S. budget fight looms, Republicans flip th...  politicsNews   \n",
       "U.S. military to accept transgender recruits on...  politicsNews   \n",
       "Senior U.S. Republican senator: 'Let Mr. Muelle...  politicsNews   \n",
       "FBI Russia probe helped by Australian diplomat ...  politicsNews   \n",
       "Trump wants Postal Service to charge 'much more...  politicsNews   \n",
       "White House, Congress prepare for talks on spen...  politicsNews   \n",
       "Trump says Russia probe will be fair, but timel...  politicsNews   \n",
       "Factbox: Trump on Twitter (Dec 29) - Approval r...  politicsNews   \n",
       "Trump on Twitter (Dec 28) - Global Warming          politicsNews   \n",
       "Alabama official to certify Senator-elect Jones...  politicsNews   \n",
       "\n",
       "                                                                  date  \n",
       "title                                                                   \n",
       "As U.S. budget fight looms, Republicans flip th...  December 31, 2017   \n",
       "U.S. military to accept transgender recruits on...  December 29, 2017   \n",
       "Senior U.S. Republican senator: 'Let Mr. Muelle...  December 31, 2017   \n",
       "FBI Russia probe helped by Australian diplomat ...  December 30, 2017   \n",
       "Trump wants Postal Service to charge 'much more...  December 29, 2017   \n",
       "White House, Congress prepare for talks on spen...  December 29, 2017   \n",
       "Trump says Russia probe will be fair, but timel...  December 29, 2017   \n",
       "Factbox: Trump on Twitter (Dec 29) - Approval r...  December 29, 2017   \n",
       "Trump on Twitter (Dec 28) - Global Warming          December 29, 2017   \n",
       "Alabama official to certify Senator-elect Jones...  December 28, 2017   "
      ]
     },
     "execution_count": 5,
     "metadata": {},
     "output_type": "execute_result"
    }
   ],
   "source": [
    "dft = pd.read_csv(\"True.csv\", index_col = 0)  #reading in the csv file into a Pandas Data Frame\n",
    "dft.head(10)"
   ]
  },
  {
   "cell_type": "code",
   "execution_count": 9,
   "metadata": {},
   "outputs": [
    {
     "data": {
      "text/plain": [
       "(21417, 3)"
      ]
     },
     "execution_count": 9,
     "metadata": {},
     "output_type": "execute_result"
    }
   ],
   "source": [
    "dft.shape  #checked to see shape of dataset"
   ]
  },
  {
   "cell_type": "code",
   "execution_count": 8,
   "metadata": {},
   "outputs": [
    {
     "data": {
      "text/plain": [
       "str"
      ]
     },
     "execution_count": 8,
     "metadata": {},
     "output_type": "execute_result"
    }
   ],
   "source": [
    "type(dft.text.iloc[0]) #checked to see type of object the text column was "
   ]
  },
  {
   "cell_type": "code",
   "execution_count": 7,
   "metadata": {},
   "outputs": [
    {
     "data": {
      "text/html": [
       "<div>\n",
       "<style scoped>\n",
       "    .dataframe tbody tr th:only-of-type {\n",
       "        vertical-align: middle;\n",
       "    }\n",
       "\n",
       "    .dataframe tbody tr th {\n",
       "        vertical-align: top;\n",
       "    }\n",
       "\n",
       "    .dataframe thead th {\n",
       "        text-align: right;\n",
       "    }\n",
       "</style>\n",
       "<table border=\"1\" class=\"dataframe\">\n",
       "  <thead>\n",
       "    <tr style=\"text-align: right;\">\n",
       "      <th></th>\n",
       "      <th>text</th>\n",
       "      <th>subject</th>\n",
       "      <th>date</th>\n",
       "    </tr>\n",
       "    <tr>\n",
       "      <th>title</th>\n",
       "      <th></th>\n",
       "      <th></th>\n",
       "      <th></th>\n",
       "    </tr>\n",
       "  </thead>\n",
       "  <tbody>\n",
       "    <tr>\n",
       "      <td>Donald Trump Sends Out Embarrassing New Year’s Eve Message; This is Disturbing</td>\n",
       "      <td>Donald Trump just couldn t wish all Americans ...</td>\n",
       "      <td>News</td>\n",
       "      <td>December 31, 2017</td>\n",
       "    </tr>\n",
       "    <tr>\n",
       "      <td>Drunk Bragging Trump Staffer Started Russian Collusion Investigation</td>\n",
       "      <td>House Intelligence Committee Chairman Devin Nu...</td>\n",
       "      <td>News</td>\n",
       "      <td>December 31, 2017</td>\n",
       "    </tr>\n",
       "    <tr>\n",
       "      <td>Sheriff David Clarke Becomes An Internet Joke For Threatening To Poke People ‘In The Eye’</td>\n",
       "      <td>On Friday, it was revealed that former Milwauk...</td>\n",
       "      <td>News</td>\n",
       "      <td>December 30, 2017</td>\n",
       "    </tr>\n",
       "    <tr>\n",
       "      <td>Trump Is So Obsessed He Even Has Obama’s Name Coded Into His Website (IMAGES)</td>\n",
       "      <td>On Christmas day, Donald Trump announced that ...</td>\n",
       "      <td>News</td>\n",
       "      <td>December 29, 2017</td>\n",
       "    </tr>\n",
       "    <tr>\n",
       "      <td>Pope Francis Just Called Out Donald Trump During His Christmas Speech</td>\n",
       "      <td>Pope Francis used his annual Christmas Day mes...</td>\n",
       "      <td>News</td>\n",
       "      <td>December 25, 2017</td>\n",
       "    </tr>\n",
       "    <tr>\n",
       "      <td>Racist Alabama Cops Brutalize Black Boy While He Is In Handcuffs (GRAPHIC IMAGES)</td>\n",
       "      <td>The number of cases of cops brutalizing and ki...</td>\n",
       "      <td>News</td>\n",
       "      <td>December 25, 2017</td>\n",
       "    </tr>\n",
       "    <tr>\n",
       "      <td>Fresh Off The Golf Course, Trump Lashes Out At FBI Deputy Director And James Comey</td>\n",
       "      <td>Donald Trump spent a good portion of his day a...</td>\n",
       "      <td>News</td>\n",
       "      <td>December 23, 2017</td>\n",
       "    </tr>\n",
       "    <tr>\n",
       "      <td>Trump Said Some INSANELY Racist Stuff Inside The Oval Office, And Witnesses Back It Up</td>\n",
       "      <td>In the wake of yet another court decision that...</td>\n",
       "      <td>News</td>\n",
       "      <td>December 23, 2017</td>\n",
       "    </tr>\n",
       "    <tr>\n",
       "      <td>Former CIA Director Slams Trump Over UN Bullying, Openly Suggests He’s Acting Like A Dictator (TWEET)</td>\n",
       "      <td>Many people have raised the alarm regarding th...</td>\n",
       "      <td>News</td>\n",
       "      <td>December 22, 2017</td>\n",
       "    </tr>\n",
       "    <tr>\n",
       "      <td>WATCH: Brand-New Pro-Trump Ad Features So Much A** Kissing It Will Make You Sick</td>\n",
       "      <td>Just when you might have thought we d get a br...</td>\n",
       "      <td>News</td>\n",
       "      <td>December 21, 2017</td>\n",
       "    </tr>\n",
       "  </tbody>\n",
       "</table>\n",
       "</div>"
      ],
      "text/plain": [
       "                                                                                                 text  \\\n",
       "title                                                                                                   \n",
       " Donald Trump Sends Out Embarrassing New Year’s...  Donald Trump just couldn t wish all Americans ...   \n",
       " Drunk Bragging Trump Staffer Started Russian C...  House Intelligence Committee Chairman Devin Nu...   \n",
       " Sheriff David Clarke Becomes An Internet Joke ...  On Friday, it was revealed that former Milwauk...   \n",
       " Trump Is So Obsessed He Even Has Obama’s Name ...  On Christmas day, Donald Trump announced that ...   \n",
       " Pope Francis Just Called Out Donald Trump Duri...  Pope Francis used his annual Christmas Day mes...   \n",
       " Racist Alabama Cops Brutalize Black Boy While ...  The number of cases of cops brutalizing and ki...   \n",
       " Fresh Off The Golf Course, Trump Lashes Out At...  Donald Trump spent a good portion of his day a...   \n",
       " Trump Said Some INSANELY Racist Stuff Inside T...  In the wake of yet another court decision that...   \n",
       " Former CIA Director Slams Trump Over UN Bullyi...  Many people have raised the alarm regarding th...   \n",
       " WATCH: Brand-New Pro-Trump Ad Features So Much...  Just when you might have thought we d get a br...   \n",
       "\n",
       "                                                   subject               date  \n",
       "title                                                                          \n",
       " Donald Trump Sends Out Embarrassing New Year’s...    News  December 31, 2017  \n",
       " Drunk Bragging Trump Staffer Started Russian C...    News  December 31, 2017  \n",
       " Sheriff David Clarke Becomes An Internet Joke ...    News  December 30, 2017  \n",
       " Trump Is So Obsessed He Even Has Obama’s Name ...    News  December 29, 2017  \n",
       " Pope Francis Just Called Out Donald Trump Duri...    News  December 25, 2017  \n",
       " Racist Alabama Cops Brutalize Black Boy While ...    News  December 25, 2017  \n",
       " Fresh Off The Golf Course, Trump Lashes Out At...    News  December 23, 2017  \n",
       " Trump Said Some INSANELY Racist Stuff Inside T...    News  December 23, 2017  \n",
       " Former CIA Director Slams Trump Over UN Bullyi...    News  December 22, 2017  \n",
       " WATCH: Brand-New Pro-Trump Ad Features So Much...    News  December 21, 2017  "
      ]
     },
     "execution_count": 7,
     "metadata": {},
     "output_type": "execute_result"
    }
   ],
   "source": [
    "dff = pd.read_csv(\"Fake.csv\", index_col = 0)  #reading in the csv file into a Pandas Data Frame\n",
    "dff.head(10)"
   ]
  },
  {
   "cell_type": "code",
   "execution_count": 10,
   "metadata": {},
   "outputs": [
    {
     "data": {
      "text/plain": [
       "str"
      ]
     },
     "execution_count": 10,
     "metadata": {},
     "output_type": "execute_result"
    }
   ],
   "source": [
    "type(dff.text.iloc[0]) #checked to see type of object the text column was "
   ]
  },
  {
   "cell_type": "code",
   "execution_count": 12,
   "metadata": {},
   "outputs": [
    {
     "data": {
      "text/plain": [
       "(23481, 3)"
      ]
     },
     "execution_count": 12,
     "metadata": {},
     "output_type": "execute_result"
    }
   ],
   "source": [
    "dff.shape  #checked to see shape of dataset"
   ]
  },
  {
   "cell_type": "code",
   "execution_count": 17,
   "metadata": {},
   "outputs": [
    {
     "data": {
      "text/html": [
       "<div>\n",
       "<style scoped>\n",
       "    .dataframe tbody tr th:only-of-type {\n",
       "        vertical-align: middle;\n",
       "    }\n",
       "\n",
       "    .dataframe tbody tr th {\n",
       "        vertical-align: top;\n",
       "    }\n",
       "\n",
       "    .dataframe thead th {\n",
       "        text-align: right;\n",
       "    }\n",
       "</style>\n",
       "<table border=\"1\" class=\"dataframe\">\n",
       "  <thead>\n",
       "    <tr style=\"text-align: right;\">\n",
       "      <th></th>\n",
       "      <th>text</th>\n",
       "      <th>subject</th>\n",
       "      <th>date</th>\n",
       "      <th>Category</th>\n",
       "    </tr>\n",
       "    <tr>\n",
       "      <th>title</th>\n",
       "      <th></th>\n",
       "      <th></th>\n",
       "      <th></th>\n",
       "      <th></th>\n",
       "    </tr>\n",
       "  </thead>\n",
       "  <tbody>\n",
       "    <tr>\n",
       "      <td>As U.S. budget fight looms, Republicans flip their fiscal script</td>\n",
       "      <td>WASHINGTON (Reuters) - The head of a conservat...</td>\n",
       "      <td>politicsNews</td>\n",
       "      <td>December 31, 2017</td>\n",
       "      <td>1</td>\n",
       "    </tr>\n",
       "    <tr>\n",
       "      <td>U.S. military to accept transgender recruits on Monday: Pentagon</td>\n",
       "      <td>WASHINGTON (Reuters) - Transgender people will...</td>\n",
       "      <td>politicsNews</td>\n",
       "      <td>December 29, 2017</td>\n",
       "      <td>1</td>\n",
       "    </tr>\n",
       "    <tr>\n",
       "      <td>Senior U.S. Republican senator: 'Let Mr. Mueller do his job'</td>\n",
       "      <td>WASHINGTON (Reuters) - The special counsel inv...</td>\n",
       "      <td>politicsNews</td>\n",
       "      <td>December 31, 2017</td>\n",
       "      <td>1</td>\n",
       "    </tr>\n",
       "    <tr>\n",
       "      <td>FBI Russia probe helped by Australian diplomat tip-off: NYT</td>\n",
       "      <td>WASHINGTON (Reuters) - Trump campaign adviser ...</td>\n",
       "      <td>politicsNews</td>\n",
       "      <td>December 30, 2017</td>\n",
       "      <td>1</td>\n",
       "    </tr>\n",
       "    <tr>\n",
       "      <td>Trump wants Postal Service to charge 'much more' for Amazon shipments</td>\n",
       "      <td>SEATTLE/WASHINGTON (Reuters) - President Donal...</td>\n",
       "      <td>politicsNews</td>\n",
       "      <td>December 29, 2017</td>\n",
       "      <td>1</td>\n",
       "    </tr>\n",
       "  </tbody>\n",
       "</table>\n",
       "</div>"
      ],
      "text/plain": [
       "                                                                                                 text  \\\n",
       "title                                                                                                   \n",
       "As U.S. budget fight looms, Republicans flip th...  WASHINGTON (Reuters) - The head of a conservat...   \n",
       "U.S. military to accept transgender recruits on...  WASHINGTON (Reuters) - Transgender people will...   \n",
       "Senior U.S. Republican senator: 'Let Mr. Muelle...  WASHINGTON (Reuters) - The special counsel inv...   \n",
       "FBI Russia probe helped by Australian diplomat ...  WASHINGTON (Reuters) - Trump campaign adviser ...   \n",
       "Trump wants Postal Service to charge 'much more...  SEATTLE/WASHINGTON (Reuters) - President Donal...   \n",
       "\n",
       "                                                         subject  \\\n",
       "title                                                              \n",
       "As U.S. budget fight looms, Republicans flip th...  politicsNews   \n",
       "U.S. military to accept transgender recruits on...  politicsNews   \n",
       "Senior U.S. Republican senator: 'Let Mr. Muelle...  politicsNews   \n",
       "FBI Russia probe helped by Australian diplomat ...  politicsNews   \n",
       "Trump wants Postal Service to charge 'much more...  politicsNews   \n",
       "\n",
       "                                                                  date  \\\n",
       "title                                                                    \n",
       "As U.S. budget fight looms, Republicans flip th...  December 31, 2017    \n",
       "U.S. military to accept transgender recruits on...  December 29, 2017    \n",
       "Senior U.S. Republican senator: 'Let Mr. Muelle...  December 31, 2017    \n",
       "FBI Russia probe helped by Australian diplomat ...  December 30, 2017    \n",
       "Trump wants Postal Service to charge 'much more...  December 29, 2017    \n",
       "\n",
       "                                                    Category  \n",
       "title                                                         \n",
       "As U.S. budget fight looms, Republicans flip th...         1  \n",
       "U.S. military to accept transgender recruits on...         1  \n",
       "Senior U.S. Republican senator: 'Let Mr. Muelle...         1  \n",
       "FBI Russia probe helped by Australian diplomat ...         1  \n",
       "Trump wants Postal Service to charge 'much more...         1  "
      ]
     },
     "execution_count": 17,
     "metadata": {},
     "output_type": "execute_result"
    }
   ],
   "source": [
    "dft[\"Category\"] = 1\n",
    "dff[\"Category\"] = 0\n",
    "df = pd.concat([dft, dff])  #merging both datasets together\n",
    "df.head()"
   ]
  },
  {
   "cell_type": "code",
   "execution_count": 18,
   "metadata": {},
   "outputs": [
    {
     "data": {
      "text/plain": [
       "text        0\n",
       "subject     0\n",
       "date        0\n",
       "Category    0\n",
       "dtype: int64"
      ]
     },
     "execution_count": 18,
     "metadata": {},
     "output_type": "execute_result"
    }
   ],
   "source": [
    "df.isna().sum()  #checked to see if there were any missing values"
   ]
  },
  {
   "cell_type": "code",
   "execution_count": null,
   "metadata": {},
   "outputs": [],
   "source": []
  }
 ],
 "metadata": {
  "kernelspec": {
   "display_name": "Python 3",
   "language": "python",
   "name": "python3"
  },
  "language_info": {
   "codemirror_mode": {
    "name": "ipython",
    "version": 3
   },
   "file_extension": ".py",
   "mimetype": "text/x-python",
   "name": "python",
   "nbconvert_exporter": "python",
   "pygments_lexer": "ipython3",
   "version": "3.7.4"
  }
 },
 "nbformat": 4,
 "nbformat_minor": 2
}
